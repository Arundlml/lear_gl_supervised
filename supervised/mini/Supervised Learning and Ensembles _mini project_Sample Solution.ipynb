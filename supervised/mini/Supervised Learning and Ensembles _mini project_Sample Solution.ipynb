{
 "cells": [
  {
   "cell_type": "code",
   "execution_count": 1,
   "metadata": {
    "collapsed": true
   },
   "outputs": [],
   "source": [
    "#Import all the required libraries\n",
    "%matplotlib inline\n",
    "import numpy as np\n",
    "import pandas as pd\n",
    "import seaborn as sns\n",
    "import matplotlib.pyplot as plt\n",
    "from sklearn.linear_model import LinearRegression\n",
    "from sklearn import tree\n",
    "from sklearn.tree import DecisionTreeClassifier\n",
    "from sklearn.ensemble import BaggingClassifier\n",
    "from sklearn.feature_extraction.text import CountVectorizer"
   ]
  },
  {
   "cell_type": "code",
   "execution_count": 2,
   "metadata": {
    "collapsed": true
   },
   "outputs": [],
   "source": [
    "import os\n",
    "#os.chdir('Supervised Learning and Ensembles Regression_mini project')"
   ]
  },
  {
   "cell_type": "code",
   "execution_count": 4,
   "metadata": {
    "collapsed": true
   },
   "outputs": [],
   "source": [
    "#Read the input dataset\n",
    "loan_df = pd.read_excel('Bank_Personal_Loan_Modelling.xlsx',sheetname='Data')"
   ]
  },
  {
   "cell_type": "code",
   "execution_count": 5,
   "metadata": {},
   "outputs": [
    {
     "name": "stdout",
     "output_type": "stream",
     "text": [
      "<class 'pandas.core.frame.DataFrame'>\n",
      "RangeIndex: 5000 entries, 0 to 4999\n",
      "Data columns (total 14 columns):\n",
      "ID                    5000 non-null int64\n",
      "Age                   5000 non-null int64\n",
      "Experience            5000 non-null int64\n",
      "Income                5000 non-null int64\n",
      "ZIP Code              5000 non-null int64\n",
      "Family                5000 non-null int64\n",
      "CCAvg                 5000 non-null float64\n",
      "Education             5000 non-null int64\n",
      "Mortgage              5000 non-null int64\n",
      "Personal Loan         5000 non-null int64\n",
      "Securities Account    5000 non-null int64\n",
      "CD Account            5000 non-null int64\n",
      "Online                5000 non-null int64\n",
      "CreditCard            5000 non-null int64\n",
      "dtypes: float64(1), int64(13)\n",
      "memory usage: 547.0 KB\n"
     ]
    }
   ],
   "source": [
    "#Review the dataframe including no. of columns, their data type, and no. of rows/observations \n",
    "loan_df.info()"
   ]
  },
  {
   "cell_type": "code",
   "execution_count": 6,
   "metadata": {},
   "outputs": [
    {
     "data": {
      "text/html": [
       "<div>\n",
       "<style>\n",
       "    .dataframe thead tr:only-child th {\n",
       "        text-align: right;\n",
       "    }\n",
       "\n",
       "    .dataframe thead th {\n",
       "        text-align: left;\n",
       "    }\n",
       "\n",
       "    .dataframe tbody tr th {\n",
       "        vertical-align: top;\n",
       "    }\n",
       "</style>\n",
       "<table border=\"1\" class=\"dataframe\">\n",
       "  <thead>\n",
       "    <tr style=\"text-align: right;\">\n",
       "      <th></th>\n",
       "      <th>ID</th>\n",
       "      <th>Age</th>\n",
       "      <th>Experience</th>\n",
       "      <th>Income</th>\n",
       "      <th>ZIP Code</th>\n",
       "      <th>Family</th>\n",
       "      <th>CCAvg</th>\n",
       "      <th>Education</th>\n",
       "      <th>Mortgage</th>\n",
       "      <th>Personal Loan</th>\n",
       "      <th>Securities Account</th>\n",
       "      <th>CD Account</th>\n",
       "      <th>Online</th>\n",
       "      <th>CreditCard</th>\n",
       "    </tr>\n",
       "  </thead>\n",
       "  <tbody>\n",
       "    <tr>\n",
       "      <th>4990</th>\n",
       "      <td>4991</td>\n",
       "      <td>55</td>\n",
       "      <td>25</td>\n",
       "      <td>58</td>\n",
       "      <td>95023</td>\n",
       "      <td>4</td>\n",
       "      <td>2.000000</td>\n",
       "      <td>3</td>\n",
       "      <td>219</td>\n",
       "      <td>0</td>\n",
       "      <td>0</td>\n",
       "      <td>0</td>\n",
       "      <td>0</td>\n",
       "      <td>1</td>\n",
       "    </tr>\n",
       "    <tr>\n",
       "      <th>4991</th>\n",
       "      <td>4992</td>\n",
       "      <td>51</td>\n",
       "      <td>25</td>\n",
       "      <td>92</td>\n",
       "      <td>91330</td>\n",
       "      <td>1</td>\n",
       "      <td>1.900000</td>\n",
       "      <td>2</td>\n",
       "      <td>100</td>\n",
       "      <td>0</td>\n",
       "      <td>0</td>\n",
       "      <td>0</td>\n",
       "      <td>0</td>\n",
       "      <td>1</td>\n",
       "    </tr>\n",
       "    <tr>\n",
       "      <th>4992</th>\n",
       "      <td>4993</td>\n",
       "      <td>30</td>\n",
       "      <td>5</td>\n",
       "      <td>13</td>\n",
       "      <td>90037</td>\n",
       "      <td>4</td>\n",
       "      <td>0.500000</td>\n",
       "      <td>3</td>\n",
       "      <td>0</td>\n",
       "      <td>0</td>\n",
       "      <td>0</td>\n",
       "      <td>0</td>\n",
       "      <td>0</td>\n",
       "      <td>0</td>\n",
       "    </tr>\n",
       "    <tr>\n",
       "      <th>4993</th>\n",
       "      <td>4994</td>\n",
       "      <td>45</td>\n",
       "      <td>21</td>\n",
       "      <td>218</td>\n",
       "      <td>91801</td>\n",
       "      <td>2</td>\n",
       "      <td>6.666667</td>\n",
       "      <td>1</td>\n",
       "      <td>0</td>\n",
       "      <td>0</td>\n",
       "      <td>0</td>\n",
       "      <td>0</td>\n",
       "      <td>1</td>\n",
       "      <td>0</td>\n",
       "    </tr>\n",
       "    <tr>\n",
       "      <th>4994</th>\n",
       "      <td>4995</td>\n",
       "      <td>64</td>\n",
       "      <td>40</td>\n",
       "      <td>75</td>\n",
       "      <td>94588</td>\n",
       "      <td>3</td>\n",
       "      <td>2.000000</td>\n",
       "      <td>3</td>\n",
       "      <td>0</td>\n",
       "      <td>0</td>\n",
       "      <td>0</td>\n",
       "      <td>0</td>\n",
       "      <td>1</td>\n",
       "      <td>0</td>\n",
       "    </tr>\n",
       "    <tr>\n",
       "      <th>4995</th>\n",
       "      <td>4996</td>\n",
       "      <td>29</td>\n",
       "      <td>3</td>\n",
       "      <td>40</td>\n",
       "      <td>92697</td>\n",
       "      <td>1</td>\n",
       "      <td>1.900000</td>\n",
       "      <td>3</td>\n",
       "      <td>0</td>\n",
       "      <td>0</td>\n",
       "      <td>0</td>\n",
       "      <td>0</td>\n",
       "      <td>1</td>\n",
       "      <td>0</td>\n",
       "    </tr>\n",
       "    <tr>\n",
       "      <th>4996</th>\n",
       "      <td>4997</td>\n",
       "      <td>30</td>\n",
       "      <td>4</td>\n",
       "      <td>15</td>\n",
       "      <td>92037</td>\n",
       "      <td>4</td>\n",
       "      <td>0.400000</td>\n",
       "      <td>1</td>\n",
       "      <td>85</td>\n",
       "      <td>0</td>\n",
       "      <td>0</td>\n",
       "      <td>0</td>\n",
       "      <td>1</td>\n",
       "      <td>0</td>\n",
       "    </tr>\n",
       "    <tr>\n",
       "      <th>4997</th>\n",
       "      <td>4998</td>\n",
       "      <td>63</td>\n",
       "      <td>39</td>\n",
       "      <td>24</td>\n",
       "      <td>93023</td>\n",
       "      <td>2</td>\n",
       "      <td>0.300000</td>\n",
       "      <td>3</td>\n",
       "      <td>0</td>\n",
       "      <td>0</td>\n",
       "      <td>0</td>\n",
       "      <td>0</td>\n",
       "      <td>0</td>\n",
       "      <td>0</td>\n",
       "    </tr>\n",
       "    <tr>\n",
       "      <th>4998</th>\n",
       "      <td>4999</td>\n",
       "      <td>65</td>\n",
       "      <td>40</td>\n",
       "      <td>49</td>\n",
       "      <td>90034</td>\n",
       "      <td>3</td>\n",
       "      <td>0.500000</td>\n",
       "      <td>2</td>\n",
       "      <td>0</td>\n",
       "      <td>0</td>\n",
       "      <td>0</td>\n",
       "      <td>0</td>\n",
       "      <td>1</td>\n",
       "      <td>0</td>\n",
       "    </tr>\n",
       "    <tr>\n",
       "      <th>4999</th>\n",
       "      <td>5000</td>\n",
       "      <td>28</td>\n",
       "      <td>4</td>\n",
       "      <td>83</td>\n",
       "      <td>92612</td>\n",
       "      <td>3</td>\n",
       "      <td>0.800000</td>\n",
       "      <td>1</td>\n",
       "      <td>0</td>\n",
       "      <td>0</td>\n",
       "      <td>0</td>\n",
       "      <td>0</td>\n",
       "      <td>1</td>\n",
       "      <td>1</td>\n",
       "    </tr>\n",
       "  </tbody>\n",
       "</table>\n",
       "</div>"
      ],
      "text/plain": [
       "        ID  Age  Experience  Income  ZIP Code  Family     CCAvg  Education  \\\n",
       "4990  4991   55          25      58     95023       4  2.000000          3   \n",
       "4991  4992   51          25      92     91330       1  1.900000          2   \n",
       "4992  4993   30           5      13     90037       4  0.500000          3   \n",
       "4993  4994   45          21     218     91801       2  6.666667          1   \n",
       "4994  4995   64          40      75     94588       3  2.000000          3   \n",
       "4995  4996   29           3      40     92697       1  1.900000          3   \n",
       "4996  4997   30           4      15     92037       4  0.400000          1   \n",
       "4997  4998   63          39      24     93023       2  0.300000          3   \n",
       "4998  4999   65          40      49     90034       3  0.500000          2   \n",
       "4999  5000   28           4      83     92612       3  0.800000          1   \n",
       "\n",
       "      Mortgage  Personal Loan  Securities Account  CD Account  Online  \\\n",
       "4990       219              0                   0           0       0   \n",
       "4991       100              0                   0           0       0   \n",
       "4992         0              0                   0           0       0   \n",
       "4993         0              0                   0           0       1   \n",
       "4994         0              0                   0           0       1   \n",
       "4995         0              0                   0           0       1   \n",
       "4996        85              0                   0           0       1   \n",
       "4997         0              0                   0           0       0   \n",
       "4998         0              0                   0           0       1   \n",
       "4999         0              0                   0           0       1   \n",
       "\n",
       "      CreditCard  \n",
       "4990           1  \n",
       "4991           1  \n",
       "4992           0  \n",
       "4993           0  \n",
       "4994           0  \n",
       "4995           0  \n",
       "4996           0  \n",
       "4997           0  \n",
       "4998           0  \n",
       "4999           1  "
      ]
     },
     "execution_count": 6,
     "metadata": {},
     "output_type": "execute_result"
    }
   ],
   "source": [
    "# Check the imported data\n",
    "loan_df.tail(10)"
   ]
  },
  {
   "cell_type": "code",
   "execution_count": 7,
   "metadata": {},
   "outputs": [
    {
     "data": {
      "text/html": [
       "<div>\n",
       "<style>\n",
       "    .dataframe thead tr:only-child th {\n",
       "        text-align: right;\n",
       "    }\n",
       "\n",
       "    .dataframe thead th {\n",
       "        text-align: left;\n",
       "    }\n",
       "\n",
       "    .dataframe tbody tr th {\n",
       "        vertical-align: top;\n",
       "    }\n",
       "</style>\n",
       "<table border=\"1\" class=\"dataframe\">\n",
       "  <thead>\n",
       "    <tr style=\"text-align: right;\">\n",
       "      <th></th>\n",
       "      <th>ID</th>\n",
       "      <th>Age</th>\n",
       "      <th>Experience</th>\n",
       "      <th>Income</th>\n",
       "      <th>ZIP Code</th>\n",
       "      <th>Family</th>\n",
       "      <th>CCAvg</th>\n",
       "      <th>Education</th>\n",
       "      <th>Mortgage</th>\n",
       "      <th>Personal Loan</th>\n",
       "      <th>Securities Account</th>\n",
       "      <th>CD Account</th>\n",
       "      <th>Online</th>\n",
       "      <th>CreditCard</th>\n",
       "    </tr>\n",
       "  </thead>\n",
       "  <tbody>\n",
       "  </tbody>\n",
       "</table>\n",
       "</div>"
      ],
      "text/plain": [
       "Empty DataFrame\n",
       "Columns: [ID, Age, Experience, Income, ZIP Code, Family, CCAvg, Education, Mortgage, Personal Loan, Securities Account, CD Account, Online, CreditCard]\n",
       "Index: []"
      ]
     },
     "execution_count": 7,
     "metadata": {},
     "output_type": "execute_result"
    }
   ],
   "source": [
    "# Checking for null values\n",
    "loan_df[loan_df.isnull().any(axis=1)]\n",
    "# no missing values in the data"
   ]
  },
  {
   "cell_type": "code",
   "execution_count": 8,
   "metadata": {},
   "outputs": [
    {
     "name": "stderr",
     "output_type": "stream",
     "text": [
      "C:\\Users\\vikash.chandra\\AppData\\Local\\Continuum\\Anaconda3\\lib\\site-packages\\ipykernel_launcher.py:2: DeprecationWarning: \n",
      ".ix is deprecated. Please use\n",
      ".loc for label based indexing or\n",
      ".iloc for positional indexing\n",
      "\n",
      "See the documentation here:\n",
      "http://pandas.pydata.org/pandas-docs/stable/indexing.html#deprecate_ix\n",
      "  \n"
     ]
    },
    {
     "data": {
      "text/html": [
       "<div>\n",
       "<style>\n",
       "    .dataframe thead tr:only-child th {\n",
       "        text-align: right;\n",
       "    }\n",
       "\n",
       "    .dataframe thead th {\n",
       "        text-align: left;\n",
       "    }\n",
       "\n",
       "    .dataframe tbody tr th {\n",
       "        vertical-align: top;\n",
       "    }\n",
       "</style>\n",
       "<table border=\"1\" class=\"dataframe\">\n",
       "  <thead>\n",
       "    <tr style=\"text-align: right;\">\n",
       "      <th></th>\n",
       "      <th>ID</th>\n",
       "      <th>Age</th>\n",
       "      <th>Experience</th>\n",
       "      <th>Income</th>\n",
       "      <th>ZIP Code</th>\n",
       "      <th>Family</th>\n",
       "      <th>CCAvg</th>\n",
       "      <th>Education</th>\n",
       "      <th>Mortgage</th>\n",
       "      <th>Personal Loan</th>\n",
       "      <th>Securities Account</th>\n",
       "      <th>CD Account</th>\n",
       "      <th>Online</th>\n",
       "      <th>CreditCard</th>\n",
       "    </tr>\n",
       "  </thead>\n",
       "  <tbody>\n",
       "  </tbody>\n",
       "</table>\n",
       "</div>"
      ],
      "text/plain": [
       "Empty DataFrame\n",
       "Columns: [ID, Age, Experience, Income, ZIP Code, Family, CCAvg, Education, Mortgage, Personal Loan, Securities Account, CD Account, Online, CreditCard]\n",
       "Index: []"
      ]
     },
     "execution_count": 8,
     "metadata": {},
     "output_type": "execute_result"
    }
   ],
   "source": [
    "# Checking for real\n",
    "loan_df.ix[loan_df.applymap(np.isreal).all(1)==False,:]"
   ]
  },
  {
   "cell_type": "code",
   "execution_count": 9,
   "metadata": {
    "collapsed": true
   },
   "outputs": [],
   "source": [
    "# Drop the Id sequence as that is just a random number \n",
    "loan_df.drop('ID',axis =1,inplace=True)"
   ]
  },
  {
   "cell_type": "code",
   "execution_count": 10,
   "metadata": {},
   "outputs": [
    {
     "data": {
      "text/html": [
       "<div>\n",
       "<style>\n",
       "    .dataframe thead tr:only-child th {\n",
       "        text-align: right;\n",
       "    }\n",
       "\n",
       "    .dataframe thead th {\n",
       "        text-align: left;\n",
       "    }\n",
       "\n",
       "    .dataframe tbody tr th {\n",
       "        vertical-align: top;\n",
       "    }\n",
       "</style>\n",
       "<table border=\"1\" class=\"dataframe\">\n",
       "  <thead>\n",
       "    <tr style=\"text-align: right;\">\n",
       "      <th></th>\n",
       "      <th>count</th>\n",
       "      <th>mean</th>\n",
       "      <th>std</th>\n",
       "      <th>min</th>\n",
       "      <th>25%</th>\n",
       "      <th>50%</th>\n",
       "      <th>75%</th>\n",
       "      <th>max</th>\n",
       "    </tr>\n",
       "  </thead>\n",
       "  <tbody>\n",
       "    <tr>\n",
       "      <th>Age</th>\n",
       "      <td>5000.0</td>\n",
       "      <td>45.338400</td>\n",
       "      <td>11.463166</td>\n",
       "      <td>23.0</td>\n",
       "      <td>35.0</td>\n",
       "      <td>45.0</td>\n",
       "      <td>55.0</td>\n",
       "      <td>67.0</td>\n",
       "    </tr>\n",
       "    <tr>\n",
       "      <th>Experience</th>\n",
       "      <td>5000.0</td>\n",
       "      <td>20.104600</td>\n",
       "      <td>11.467954</td>\n",
       "      <td>-3.0</td>\n",
       "      <td>10.0</td>\n",
       "      <td>20.0</td>\n",
       "      <td>30.0</td>\n",
       "      <td>43.0</td>\n",
       "    </tr>\n",
       "    <tr>\n",
       "      <th>Income</th>\n",
       "      <td>5000.0</td>\n",
       "      <td>73.774200</td>\n",
       "      <td>46.033729</td>\n",
       "      <td>8.0</td>\n",
       "      <td>39.0</td>\n",
       "      <td>64.0</td>\n",
       "      <td>98.0</td>\n",
       "      <td>224.0</td>\n",
       "    </tr>\n",
       "    <tr>\n",
       "      <th>ZIP Code</th>\n",
       "      <td>5000.0</td>\n",
       "      <td>93152.503000</td>\n",
       "      <td>2121.852197</td>\n",
       "      <td>9307.0</td>\n",
       "      <td>91911.0</td>\n",
       "      <td>93437.0</td>\n",
       "      <td>94608.0</td>\n",
       "      <td>96651.0</td>\n",
       "    </tr>\n",
       "    <tr>\n",
       "      <th>Family</th>\n",
       "      <td>5000.0</td>\n",
       "      <td>2.396400</td>\n",
       "      <td>1.147663</td>\n",
       "      <td>1.0</td>\n",
       "      <td>1.0</td>\n",
       "      <td>2.0</td>\n",
       "      <td>3.0</td>\n",
       "      <td>4.0</td>\n",
       "    </tr>\n",
       "    <tr>\n",
       "      <th>CCAvg</th>\n",
       "      <td>5000.0</td>\n",
       "      <td>1.937913</td>\n",
       "      <td>1.747666</td>\n",
       "      <td>0.0</td>\n",
       "      <td>0.7</td>\n",
       "      <td>1.5</td>\n",
       "      <td>2.5</td>\n",
       "      <td>10.0</td>\n",
       "    </tr>\n",
       "    <tr>\n",
       "      <th>Education</th>\n",
       "      <td>5000.0</td>\n",
       "      <td>1.881000</td>\n",
       "      <td>0.839869</td>\n",
       "      <td>1.0</td>\n",
       "      <td>1.0</td>\n",
       "      <td>2.0</td>\n",
       "      <td>3.0</td>\n",
       "      <td>3.0</td>\n",
       "    </tr>\n",
       "    <tr>\n",
       "      <th>Mortgage</th>\n",
       "      <td>5000.0</td>\n",
       "      <td>56.498800</td>\n",
       "      <td>101.713802</td>\n",
       "      <td>0.0</td>\n",
       "      <td>0.0</td>\n",
       "      <td>0.0</td>\n",
       "      <td>101.0</td>\n",
       "      <td>635.0</td>\n",
       "    </tr>\n",
       "    <tr>\n",
       "      <th>Personal Loan</th>\n",
       "      <td>5000.0</td>\n",
       "      <td>0.096000</td>\n",
       "      <td>0.294621</td>\n",
       "      <td>0.0</td>\n",
       "      <td>0.0</td>\n",
       "      <td>0.0</td>\n",
       "      <td>0.0</td>\n",
       "      <td>1.0</td>\n",
       "    </tr>\n",
       "    <tr>\n",
       "      <th>Securities Account</th>\n",
       "      <td>5000.0</td>\n",
       "      <td>0.104400</td>\n",
       "      <td>0.305809</td>\n",
       "      <td>0.0</td>\n",
       "      <td>0.0</td>\n",
       "      <td>0.0</td>\n",
       "      <td>0.0</td>\n",
       "      <td>1.0</td>\n",
       "    </tr>\n",
       "    <tr>\n",
       "      <th>CD Account</th>\n",
       "      <td>5000.0</td>\n",
       "      <td>0.060400</td>\n",
       "      <td>0.238250</td>\n",
       "      <td>0.0</td>\n",
       "      <td>0.0</td>\n",
       "      <td>0.0</td>\n",
       "      <td>0.0</td>\n",
       "      <td>1.0</td>\n",
       "    </tr>\n",
       "    <tr>\n",
       "      <th>Online</th>\n",
       "      <td>5000.0</td>\n",
       "      <td>0.596800</td>\n",
       "      <td>0.490589</td>\n",
       "      <td>0.0</td>\n",
       "      <td>0.0</td>\n",
       "      <td>1.0</td>\n",
       "      <td>1.0</td>\n",
       "      <td>1.0</td>\n",
       "    </tr>\n",
       "    <tr>\n",
       "      <th>CreditCard</th>\n",
       "      <td>5000.0</td>\n",
       "      <td>0.294000</td>\n",
       "      <td>0.455637</td>\n",
       "      <td>0.0</td>\n",
       "      <td>0.0</td>\n",
       "      <td>0.0</td>\n",
       "      <td>1.0</td>\n",
       "      <td>1.0</td>\n",
       "    </tr>\n",
       "  </tbody>\n",
       "</table>\n",
       "</div>"
      ],
      "text/plain": [
       "                     count          mean          std     min      25%  \\\n",
       "Age                 5000.0     45.338400    11.463166    23.0     35.0   \n",
       "Experience          5000.0     20.104600    11.467954    -3.0     10.0   \n",
       "Income              5000.0     73.774200    46.033729     8.0     39.0   \n",
       "ZIP Code            5000.0  93152.503000  2121.852197  9307.0  91911.0   \n",
       "Family              5000.0      2.396400     1.147663     1.0      1.0   \n",
       "CCAvg               5000.0      1.937913     1.747666     0.0      0.7   \n",
       "Education           5000.0      1.881000     0.839869     1.0      1.0   \n",
       "Mortgage            5000.0     56.498800   101.713802     0.0      0.0   \n",
       "Personal Loan       5000.0      0.096000     0.294621     0.0      0.0   \n",
       "Securities Account  5000.0      0.104400     0.305809     0.0      0.0   \n",
       "CD Account          5000.0      0.060400     0.238250     0.0      0.0   \n",
       "Online              5000.0      0.596800     0.490589     0.0      0.0   \n",
       "CreditCard          5000.0      0.294000     0.455637     0.0      0.0   \n",
       "\n",
       "                        50%      75%      max  \n",
       "Age                    45.0     55.0     67.0  \n",
       "Experience             20.0     30.0     43.0  \n",
       "Income                 64.0     98.0    224.0  \n",
       "ZIP Code            93437.0  94608.0  96651.0  \n",
       "Family                  2.0      3.0      4.0  \n",
       "CCAvg                   1.5      2.5     10.0  \n",
       "Education               2.0      3.0      3.0  \n",
       "Mortgage                0.0    101.0    635.0  \n",
       "Personal Loan           0.0      0.0      1.0  \n",
       "Securities Account      0.0      0.0      1.0  \n",
       "CD Account              0.0      0.0      1.0  \n",
       "Online                  1.0      1.0      1.0  \n",
       "CreditCard              0.0      1.0      1.0  "
      ]
     },
     "execution_count": 10,
     "metadata": {},
     "output_type": "execute_result"
    }
   ],
   "source": [
    "#Generate descriptive statistics\n",
    "loan_df.describe().transpose()"
   ]
  },
  {
   "cell_type": "code",
   "execution_count": 11,
   "metadata": {},
   "outputs": [
    {
     "data": {
      "text/plain": [
       "<matplotlib.axes._subplots.AxesSubplot at 0x1df5cf7b4a8>"
      ]
     },
     "execution_count": 11,
     "metadata": {},
     "output_type": "execute_result"
    },
    {
     "data": {
      "image/png": "[encoded data removed]",
      "text/plain": [
       "<matplotlib.figure.Figure at 0x1df5d176be0>"
      ]
     },
     "metadata": {},
     "output_type": "display_data"
    }
   ],
   "source": [
    "# Univariate descriptive analysis - Age\n",
    "loan_df.boxplot(column='Age')\n",
    "#Ranges from 23 to 67\n",
    "#No missing values\n",
    "#Boxplot shows no outliers"
   ]
  },
  {
   "cell_type": "code",
   "execution_count": 12,
   "metadata": {},
   "outputs": [
    {
     "data": {
      "text/plain": [
       "<matplotlib.axes._subplots.AxesSubplot at 0x1df5d007cf8>"
      ]
     },
     "execution_count": 12,
     "metadata": {},
     "output_type": "execute_result"
    },
    {
     "data": {
      "image/png": "[encoded data removed]",
      "text/plain": [
       "<matplotlib.figure.Figure at 0x1df5d39c208>"
      ]
     },
     "metadata": {},
     "output_type": "display_data"
    }
   ],
   "source": [
    "#Distribution of Experience\n",
    "loan_df.boxplot(column='Experience')"
   ]
  },
  {
   "cell_type": "markdown",
   "metadata": {},
   "source": [
    "Ranges from -3 to 67\n",
    "Experience cannot be negative. 52 observations have experience as negative\n",
    "No missing values\n",
    "Boxplot shows no outliers or extreme values\n",
    "Histogram / frequency distribution shows normal distribution\n",
    "No significant difference between mean and mode indicating more of normal distribution"
   ]
  },
  {
   "cell_type": "code",
   "execution_count": 13,
   "metadata": {},
   "outputs": [
    {
     "data": {
      "text/plain": [
       "52"
      ]
     },
     "execution_count": 13,
     "metadata": {},
     "output_type": "execute_result"
    }
   ],
   "source": [
    "#loan_df.query('Experience<0').count()\n",
    "len(loan_df[loan_df.Experience < 0])\n",
    "# 52 observations has negative experience"
   ]
  },
  {
   "cell_type": "code",
   "execution_count": 14,
   "metadata": {},
   "outputs": [
    {
     "data": {
      "text/plain": [
       "<matplotlib.axes._subplots.AxesSubplot at 0x1df5d336400>"
      ]
     },
     "execution_count": 14,
     "metadata": {},
     "output_type": "execute_result"
    },
    {
     "data": {
      "image/png": "[encoded data removed]",
      "text/plain": [
       "<matplotlib.figure.Figure at 0x1df5d3a1eb8>"
      ]
     },
     "metadata": {},
     "output_type": "display_data"
    }
   ],
   "source": [
    "# Distribution of Income\n",
    "loan_df.boxplot(column='Income')\n",
    "#Ranges from 8 to 224(max) with no missing values\n",
    "#Boxplot shows presence of outliers or extreme values; Lets check histogram also"
   ]
  },
  {
   "cell_type": "code",
   "execution_count": 15,
   "metadata": {},
   "outputs": [
    {
     "data": {
      "text/plain": [
       "<matplotlib.axes._subplots.AxesSubplot at 0x1df5d7f4400>"
      ]
     },
     "execution_count": 15,
     "metadata": {},
     "output_type": "execute_result"
    },
    {
     "data": {
      "image/png": "[encoded data removed]",
      "text/plain": [
       "<matplotlib.figure.Figure at 0x1df5d807d30>"
      ]
     },
     "metadata": {},
     "output_type": "display_data"
    }
   ],
   "source": [
    "loan_df['Income'].hist(bins=30)\n",
    "# Frequency distribution shows asymmetry with right skew "
   ]
  },
  {
   "cell_type": "code",
   "execution_count": 16,
   "metadata": {},
   "outputs": [
    {
     "data": {
      "text/plain": [
       "1    1472\n",
       "2    1296\n",
       "4    1222\n",
       "3    1010\n",
       "Name: Family, dtype: int64"
      ]
     },
     "execution_count": 16,
     "metadata": {},
     "output_type": "execute_result"
    },
    {
     "data": {
      "image/png": "[encoded data removed]",
      "text/plain": [
       "<matplotlib.figure.Figure at 0x1df5cfbcdd8>"
      ]
     },
     "metadata": {},
     "output_type": "display_data"
    }
   ],
   "source": [
    "# Univariate descriptive analysis- Family size\n",
    "loan_df['Family'].hist(bins=10)\n",
    "loan_df['Family'].value_counts()"
   ]
  },
  {
   "cell_type": "code",
   "execution_count": 17,
   "metadata": {},
   "outputs": [
    {
     "data": {
      "text/plain": [
       "<matplotlib.axes._subplots.AxesSubplot at 0x1df5d2e46d8>"
      ]
     },
     "execution_count": 17,
     "metadata": {},
     "output_type": "execute_result"
    },
    {
     "data": {
      "image/png": "[encoded data removed]",
      "text/plain": [
       "<matplotlib.figure.Figure at 0x1df5d80e668>"
      ]
     },
     "metadata": {},
     "output_type": "display_data"
    }
   ],
   "source": [
    "loan_df.boxplot(column='CCAvg')\n",
    "# CCAvg Ranges from 0 to 10 as seen from summary,lets check its frequency plot"
   ]
  },
  {
   "cell_type": "code",
   "execution_count": 18,
   "metadata": {},
   "outputs": [
    {
     "data": {
      "text/plain": [
       "<matplotlib.axes._subplots.AxesSubplot at 0x1df5d25cda0>"
      ]
     },
     "execution_count": 18,
     "metadata": {},
     "output_type": "execute_result"
    },
    {
     "data": {
      "image/png": "[encoded data removed]",
      "text/plain": [
       "<matplotlib.figure.Figure at 0x1df5d0d7080>"
      ]
     },
     "metadata": {},
     "output_type": "display_data"
    }
   ],
   "source": [
    "loan_df['CCAvg'].hist(bins=20)\n",
    "# Frequency distribution shows asymmetry with significant right skew "
   ]
  },
  {
   "cell_type": "code",
   "execution_count": 19,
   "metadata": {},
   "outputs": [
    {
     "data": {
      "text/plain": [
       "1    2096\n",
       "3    1501\n",
       "2    1403\n",
       "Name: Education, dtype: int64"
      ]
     },
     "execution_count": 19,
     "metadata": {},
     "output_type": "execute_result"
    },
    {
     "data": {
      "image/png": "[encoded data removed]",
      "text/plain": [
       "<matplotlib.figure.Figure at 0x1df5d01ec88>"
      ]
     },
     "metadata": {},
     "output_type": "display_data"
    }
   ],
   "source": [
    "# Univariate descriptive analysis- Education\n",
    "loan_df['Education'].hist(bins=10)\n",
    "loan_df['Education'].value_counts()\n",
    "#Education Level. 1: Undergrad; 2: Graduate; 3: Advanced/Professional\n",
    "# Maximum number of customer are Undergrad"
   ]
  },
  {
   "cell_type": "code",
   "execution_count": 20,
   "metadata": {},
   "outputs": [
    {
     "data": {
      "text/plain": [
       "<matplotlib.axes._subplots.AxesSubplot at 0x1df5d1d5550>"
      ]
     },
     "execution_count": 20,
     "metadata": {},
     "output_type": "execute_result"
    },
    {
     "data": {
      "image/png": "[encoded data removed]",
      "text/plain": [
       "<matplotlib.figure.Figure at 0x1df5d185f28>"
      ]
     },
     "metadata": {},
     "output_type": "display_data"
    }
   ],
   "source": [
    "# Univariate descriptive analysis- Mortgage\n",
    "loan_df['Mortgage'].hist(bins=10)\n",
    "# Ranges from 0 to 635 and it shows high asymmetry with extreme right skew"
   ]
  },
  {
   "cell_type": "code",
   "execution_count": 21,
   "metadata": {},
   "outputs": [
    {
     "data": {
      "text/plain": [
       "0    4478\n",
       "1     522\n",
       "Name: Securities Account, dtype: int64"
      ]
     },
     "execution_count": 21,
     "metadata": {},
     "output_type": "execute_result"
    }
   ],
   "source": [
    "loan_df['Securities Account'].value_counts()"
   ]
  },
  {
   "cell_type": "code",
   "execution_count": 22,
   "metadata": {},
   "outputs": [
    {
     "data": {
      "text/plain": [
       "0    4698\n",
       "1     302\n",
       "Name: CD Account, dtype: int64"
      ]
     },
     "execution_count": 22,
     "metadata": {},
     "output_type": "execute_result"
    }
   ],
   "source": [
    "loan_df['CD Account'].value_counts()"
   ]
  },
  {
   "cell_type": "code",
   "execution_count": 23,
   "metadata": {},
   "outputs": [
    {
     "data": {
      "text/plain": [
       "1    2984\n",
       "0    2016\n",
       "Name: Online, dtype: int64"
      ]
     },
     "execution_count": 23,
     "metadata": {},
     "output_type": "execute_result"
    }
   ],
   "source": [
    "loan_df['Online'].value_counts()"
   ]
  },
  {
   "cell_type": "code",
   "execution_count": 24,
   "metadata": {},
   "outputs": [
    {
     "data": {
      "text/plain": [
       "0    3530\n",
       "1    1470\n",
       "Name: CreditCard, dtype: int64"
      ]
     },
     "execution_count": 24,
     "metadata": {},
     "output_type": "execute_result"
    }
   ],
   "source": [
    "loan_df['CreditCard'].value_counts()"
   ]
  },
  {
   "cell_type": "code",
   "execution_count": 25,
   "metadata": {},
   "outputs": [
    {
     "data": {
      "text/plain": [
       "0    4520\n",
       "1     480\n",
       "Name: Personal Loan, dtype: int64"
      ]
     },
     "execution_count": 25,
     "metadata": {},
     "output_type": "execute_result"
    },
    {
     "data": {
      "image/png": "[encoded data removed]",
      "text/plain": [
       "<matplotlib.figure.Figure at 0x1df5da793c8>"
      ]
     },
     "metadata": {},
     "output_type": "display_data"
    }
   ],
   "source": [
    "# Univariate descriptive analysis- Experience\n",
    "loan_df['Personal Loan'].hist(bins=10)\n",
    "loan_df['Personal Loan'].value_counts()\n",
    "# ~10% of the observations are related to value of 1 for personal loan"
   ]
  },
  {
   "cell_type": "code",
   "execution_count": 26,
   "metadata": {},
   "outputs": [
    {
     "data": {
      "text/plain": [
       "Age                  -0.007726\n",
       "Experience           -0.007413\n",
       "Income                0.502462\n",
       "ZIP Code              0.000107\n",
       "Family                0.061367\n",
       "CCAvg                 0.366891\n",
       "Education             0.136722\n",
       "Mortgage              0.142095\n",
       "Personal Loan         1.000000\n",
       "Securities Account    0.021954\n",
       "CD Account            0.316355\n",
       "Online                0.006278\n",
       "CreditCard            0.002802\n",
       "Name: Personal Loan, dtype: float64"
      ]
     },
     "execution_count": 26,
     "metadata": {},
     "output_type": "execute_result"
    }
   ],
   "source": [
    "#correlation between dependent variable 'PersonalLoan' and independent variables\n",
    "loan_df.corr()[\"Personal Loan\"]"
   ]
  },
  {
   "cell_type": "code",
   "execution_count": 27,
   "metadata": {},
   "outputs": [
    {
     "data": {
      "text/plain": [
       "<matplotlib.axes._subplots.AxesSubplot at 0x1df5db91f60>"
      ]
     },
     "execution_count": 27,
     "metadata": {},
     "output_type": "execute_result"
    },
    {
     "data": {
      "image/png": "[encoded data removed]",
      "text/plain": [
       "<matplotlib.figure.Figure at 0x1df5db914e0>"
      ]
     },
     "metadata": {},
     "output_type": "display_data"
    }
   ],
   "source": [
    "colormap = plt.cm.viridis # Color range to be used in heatmap\n",
    "plt.figure(figsize=(15,15))\n",
    "plt.title('Pearson Correlation of attributes', y=1.05, size=19)\n",
    "sns.heatmap(loan_df.corr(),linewidths=0.1,vmax=1.0, \n",
    "            square=True, cmap=colormap, linecolor='white', annot=True)\n",
    "#High corrlation in Age and Experience (Correlation coefficient of 0.99)\n",
    "#Moderate correlation in Income and CCAvg (Correlation coefficient of 0.65)\n",
    "#Perfect correlation between Age and Experience indicates that we may have to drop one of these predictors, before we build our model."
   ]
  },
  {
   "cell_type": "markdown",
   "metadata": {},
   "source": [
    "### Bivariate analysis"
   ]
  },
  {
   "cell_type": "code",
   "execution_count": 28,
   "metadata": {},
   "outputs": [
    {
     "data": {
      "text/plain": [
       "<matplotlib.axes._subplots.AxesSubplot at 0x1df5e063d68>"
      ]
     },
     "execution_count": 28,
     "metadata": {},
     "output_type": "execute_result"
    },
    {
     "data": {
      "image/png": "[encoded data removed]",
      "text/plain": [
       "<matplotlib.figure.Figure at 0x1df573313c8>"
      ]
     },
     "metadata": {},
     "output_type": "display_data"
    }
   ],
   "source": [
    "sns.boxplot(x = \"Personal Loan\", y = \"Income\", data = loan_df)\n",
    "# On average,the income of customers who accepted loan offer are higher"
   ]
  },
  {
   "cell_type": "code",
   "execution_count": 29,
   "metadata": {},
   "outputs": [
    {
     "data": {
      "text/plain": [
       "<matplotlib.axes._subplots.AxesSubplot at 0x1df5e1007f0>"
      ]
     },
     "execution_count": 29,
     "metadata": {},
     "output_type": "execute_result"
    },
    {
     "data": {
      "image/png": "[encoded data removed]",
      "text/plain": [
       "<matplotlib.figure.Figure at 0x1df5da19cf8>"
      ]
     },
     "metadata": {},
     "output_type": "display_data"
    }
   ],
   "source": [
    "sns.boxplot(x = \"Personal Loan\", y = \"Age\", data = loan_df)\n",
    "#Age seems same for both groups"
   ]
  },
  {
   "cell_type": "code",
   "execution_count": 30,
   "metadata": {},
   "outputs": [
    {
     "data": {
      "text/plain": [
       "<matplotlib.axes._subplots.AxesSubplot at 0x1df5dc3add8>"
      ]
     },
     "execution_count": 30,
     "metadata": {},
     "output_type": "execute_result"
    },
    {
     "data": {
      "image/png": "[encoded data removed]",
      "text/plain": [
       "<matplotlib.figure.Figure at 0x1df5d1b2eb8>"
      ]
     },
     "metadata": {},
     "output_type": "display_data"
    }
   ],
   "source": [
    "sns.boxplot(x = \"Personal Loan\", y = \"Experience\", data = loan_df)\n",
    "#The -ve experiance is within the 0 group"
   ]
  },
  {
   "cell_type": "code",
   "execution_count": 31,
   "metadata": {},
   "outputs": [
    {
     "data": {
      "text/plain": [
       "<matplotlib.axes._subplots.AxesSubplot at 0x1df5dd96be0>"
      ]
     },
     "execution_count": 31,
     "metadata": {},
     "output_type": "execute_result"
    },
    {
     "data": {
      "image/png": "[encoded data removed]",
      "text/plain": [
       "<matplotlib.figure.Figure at 0x1df5da2ef60>"
      ]
     },
     "metadata": {},
     "output_type": "display_data"
    }
   ],
   "source": [
    "sns.boxplot(x = \"Personal Loan\", y = \"Mortgage\", data = loan_df)"
   ]
  },
  {
   "cell_type": "code",
   "execution_count": 32,
   "metadata": {},
   "outputs": [
    {
     "data": {
      "image/png": "[encoded data removed]",
      "text/plain": [
       "<matplotlib.figure.Figure at 0x1df5dda9630>"
      ]
     },
     "metadata": {},
     "output_type": "display_data"
    }
   ],
   "source": [
    "# For categorical predictors\n",
    "cols = [\"Education\",\"CD Account\",\"Family\",\"Securities Account\",\"Online\"]\n",
    "fig, axs = plt.subplots(ncols = 5)\n",
    "fig.tight_layout()\n",
    "for i in range(0,len(cols)):\n",
    "    sns.countplot(x=cols[i], hue=\"Personal Loan\", data=loan_df, ax = axs[i])\n",
    "# Likelihood of someone accepting the loan increases for more educated customers. \n",
    "# Customers having a CD account has much higher probability of accepting the loan"
   ]
  },
  {
   "cell_type": "code",
   "execution_count": 33,
   "metadata": {
    "collapsed": true
   },
   "outputs": [],
   "source": [
    "#Preparing the final data for medelling\n",
    "# replacing outliers for CC Average,Income and Mortgage\n",
    "loan_df[\"Income_new\"] = loan_df[\"Income\"]\n",
    "loan_df[\"CCAvg_new\"] = loan_df[\"CCAvg\"]\n",
    "loan_df[\"Mortgage_new\"] = loan_df[\"Mortgage\"]"
   ]
  },
  {
   "cell_type": "code",
   "execution_count": 34,
   "metadata": {},
   "outputs": [],
   "source": [
    "#Capping it to 2SD\n",
    "#X = loan_df.groupby(['Personal_Loan'])['CCAvg'].quantile(.90)\n",
    "loan_df.ix[np.abs(loan_df.Income-loan_df.Income.mean())>(2*loan_df.Income.std()),\"Income_new\"] = np.round(loan_df.Income.mean()+2*loan_df.Income.std())\n",
    "\n",
    "loan_df.ix[np.abs(loan_df.Mortgage-loan_df.Mortgage.mean())>(2*loan_df.Mortgage.std()),\"Mortgage_new\"] = np.round(loan_df.Mortgage.mean()+2*loan_df.Mortgage.std())\n",
    "\n",
    "loan_df.ix[np.abs(loan_df.CCAvg-loan_df.CCAvg.mean())>(2*loan_df.CCAvg.std()),\"CCAvg_new\"] = np.round(loan_df.CCAvg.mean()+2*loan_df.CCAvg.std(),2)"
   ]
  },
  {
   "cell_type": "code",
   "execution_count": 35,
   "metadata": {},
   "outputs": [
    {
     "data": {
      "text/html": [
       "<div>\n",
       "<style>\n",
       "    .dataframe thead tr:only-child th {\n",
       "        text-align: right;\n",
       "    }\n",
       "\n",
       "    .dataframe thead th {\n",
       "        text-align: left;\n",
       "    }\n",
       "\n",
       "    .dataframe tbody tr th {\n",
       "        vertical-align: top;\n",
       "    }\n",
       "</style>\n",
       "<table border=\"1\" class=\"dataframe\">\n",
       "  <thead>\n",
       "    <tr style=\"text-align: right;\">\n",
       "      <th></th>\n",
       "      <th>Age</th>\n",
       "      <th>Experience</th>\n",
       "      <th>Income</th>\n",
       "      <th>ZIP Code</th>\n",
       "      <th>Family</th>\n",
       "      <th>CCAvg</th>\n",
       "      <th>Education</th>\n",
       "      <th>Mortgage</th>\n",
       "      <th>Personal Loan</th>\n",
       "      <th>Securities Account</th>\n",
       "      <th>CD Account</th>\n",
       "      <th>Online</th>\n",
       "      <th>CreditCard</th>\n",
       "      <th>Income_new</th>\n",
       "      <th>CCAvg_new</th>\n",
       "      <th>Mortgage_new</th>\n",
       "    </tr>\n",
       "  </thead>\n",
       "  <tbody>\n",
       "    <tr>\n",
       "      <th>0</th>\n",
       "      <td>25</td>\n",
       "      <td>1</td>\n",
       "      <td>49</td>\n",
       "      <td>91107</td>\n",
       "      <td>4</td>\n",
       "      <td>1.6</td>\n",
       "      <td>1</td>\n",
       "      <td>0</td>\n",
       "      <td>0</td>\n",
       "      <td>1</td>\n",
       "      <td>0</td>\n",
       "      <td>0</td>\n",
       "      <td>0</td>\n",
       "      <td>49.0</td>\n",
       "      <td>1.6</td>\n",
       "      <td>0.0</td>\n",
       "    </tr>\n",
       "    <tr>\n",
       "      <th>1</th>\n",
       "      <td>45</td>\n",
       "      <td>19</td>\n",
       "      <td>34</td>\n",
       "      <td>90089</td>\n",
       "      <td>3</td>\n",
       "      <td>1.5</td>\n",
       "      <td>1</td>\n",
       "      <td>0</td>\n",
       "      <td>0</td>\n",
       "      <td>1</td>\n",
       "      <td>0</td>\n",
       "      <td>0</td>\n",
       "      <td>0</td>\n",
       "      <td>34.0</td>\n",
       "      <td>1.5</td>\n",
       "      <td>0.0</td>\n",
       "    </tr>\n",
       "  </tbody>\n",
       "</table>\n",
       "</div>"
      ],
      "text/plain": [
       "   Age  Experience  Income  ZIP Code  Family  CCAvg  Education  Mortgage  \\\n",
       "0   25           1      49     91107       4    1.6          1         0   \n",
       "1   45          19      34     90089       3    1.5          1         0   \n",
       "\n",
       "   Personal Loan  Securities Account  CD Account  Online  CreditCard  \\\n",
       "0              0                   1           0       0           0   \n",
       "1              0                   1           0       0           0   \n",
       "\n",
       "   Income_new  CCAvg_new  Mortgage_new  \n",
       "0        49.0        1.6           0.0  \n",
       "1        34.0        1.5           0.0  "
      ]
     },
     "execution_count": 35,
     "metadata": {},
     "output_type": "execute_result"
    }
   ],
   "source": [
    "loan_df.head(2)"
   ]
  },
  {
   "cell_type": "code",
   "execution_count": 36,
   "metadata": {},
   "outputs": [
    {
     "name": "stderr",
     "output_type": "stream",
     "text": [
      "C:\\Users\\vikash.chandra\\AppData\\Local\\Continuum\\Anaconda3\\lib\\site-packages\\pandas\\core\\frame.py:2844: SettingWithCopyWarning: \n",
      "A value is trying to be set on a copy of a slice from a DataFrame\n",
      "\n",
      "See the caveats in the documentation: http://pandas.pydata.org/pandas-docs/stable/indexing.html#indexing-view-versus-copy\n",
      "  **kwargs)\n"
     ]
    }
   ],
   "source": [
    "df_valid = loan_df[[\"Age\",\"Income_new\",\"ZIP Code\",\"Family\",\"CCAvg_new\",\"Education\",\"Mortgage_new\",\"Personal Loan\",\"Securities Account\",\"CD Account\",\"Online\",\"CreditCard\"]]\n",
    "df_valid.rename(columns={'Income_new': 'Income', 'CCAvg_new': 'CCAvg', 'Mortgage_new': 'Mortgage','Personal Loan':'Personal_Loan'}, inplace=True)"
   ]
  },
  {
   "cell_type": "code",
   "execution_count": 37,
   "metadata": {},
   "outputs": [
    {
     "data": {
      "text/html": [
       "<div>\n",
       "<style>\n",
       "    .dataframe thead tr:only-child th {\n",
       "        text-align: right;\n",
       "    }\n",
       "\n",
       "    .dataframe thead th {\n",
       "        text-align: left;\n",
       "    }\n",
       "\n",
       "    .dataframe tbody tr th {\n",
       "        vertical-align: top;\n",
       "    }\n",
       "</style>\n",
       "<table border=\"1\" class=\"dataframe\">\n",
       "  <thead>\n",
       "    <tr style=\"text-align: right;\">\n",
       "      <th></th>\n",
       "      <th>Age</th>\n",
       "      <th>Income</th>\n",
       "      <th>ZIP Code</th>\n",
       "      <th>Family</th>\n",
       "      <th>CCAvg</th>\n",
       "      <th>Education</th>\n",
       "      <th>Mortgage</th>\n",
       "      <th>Personal_Loan</th>\n",
       "      <th>Securities Account</th>\n",
       "      <th>CD Account</th>\n",
       "      <th>Online</th>\n",
       "      <th>CreditCard</th>\n",
       "    </tr>\n",
       "  </thead>\n",
       "  <tbody>\n",
       "    <tr>\n",
       "      <th>0</th>\n",
       "      <td>25</td>\n",
       "      <td>49.0</td>\n",
       "      <td>91107</td>\n",
       "      <td>4</td>\n",
       "      <td>1.6</td>\n",
       "      <td>1</td>\n",
       "      <td>0.0</td>\n",
       "      <td>0</td>\n",
       "      <td>1</td>\n",
       "      <td>0</td>\n",
       "      <td>0</td>\n",
       "      <td>0</td>\n",
       "    </tr>\n",
       "    <tr>\n",
       "      <th>1</th>\n",
       "      <td>45</td>\n",
       "      <td>34.0</td>\n",
       "      <td>90089</td>\n",
       "      <td>3</td>\n",
       "      <td>1.5</td>\n",
       "      <td>1</td>\n",
       "      <td>0.0</td>\n",
       "      <td>0</td>\n",
       "      <td>1</td>\n",
       "      <td>0</td>\n",
       "      <td>0</td>\n",
       "      <td>0</td>\n",
       "    </tr>\n",
       "  </tbody>\n",
       "</table>\n",
       "</div>"
      ],
      "text/plain": [
       "   Age  Income  ZIP Code  Family  CCAvg  Education  Mortgage  Personal_Loan  \\\n",
       "0   25    49.0     91107       4    1.6          1       0.0              0   \n",
       "1   45    34.0     90089       3    1.5          1       0.0              0   \n",
       "\n",
       "   Securities Account  CD Account  Online  CreditCard  \n",
       "0                   1           0       0           0  \n",
       "1                   1           0       0           0  "
      ]
     },
     "execution_count": 37,
     "metadata": {},
     "output_type": "execute_result"
    }
   ],
   "source": [
    "df_valid.head(2)"
   ]
  },
  {
   "cell_type": "code",
   "execution_count": 38,
   "metadata": {},
   "outputs": [
    {
     "data": {
      "text/plain": [
       "[(3500, 11), (1500, 11), (3500,), (1500,)]"
      ]
     },
     "execution_count": 38,
     "metadata": {},
     "output_type": "execute_result"
    }
   ],
   "source": [
    "# Split the data into training and test set in the ratio of 70:30\n",
    "# Changing default display options\n",
    "from IPython.core.interactiveshell import InteractiveShell\n",
    "InteractiveShell.ast_node_interactivity = \"all\"\n",
    "\n",
    "\n",
    "# We split the data to train and test\n",
    "import pandas as pd\n",
    "from sklearn.model_selection import train_test_split\n",
    "from sklearn.linear_model import LogisticRegression\n",
    "\n",
    "X_train, X_test, y_train, y_test = train_test_split(df_valid.drop(\"Personal_Loan\", axis=1), \n",
    "                                                    df_valid[\"Personal_Loan\"], test_size=0.3, random_state=123)\n",
    "\n",
    "# Check the shape of train and test sets\n",
    "list(map(lambda x: x.shape,[X_train, X_test, y_train, y_test]))"
   ]
  },
  {
   "cell_type": "code",
   "execution_count": 39,
   "metadata": {},
   "outputs": [
    {
     "data": {
      "text/plain": [
       "LogisticRegression(C=1.0, class_weight=None, dual=False, fit_intercept=True,\n",
       "          intercept_scaling=1, max_iter=100, multi_class='ovr', n_jobs=1,\n",
       "          penalty='l2', random_state=None, solver='liblinear', tol=0.0001,\n",
       "          verbose=0, warm_start=False)"
      ]
     },
     "execution_count": 39,
     "metadata": {},
     "output_type": "execute_result"
    }
   ],
   "source": [
    "# Logistic Regression\n",
    "from sklearn.linear_model import LogisticRegression\n",
    "log_clf = LogisticRegression()\n",
    "log_clf.fit(X_train,y_train)"
   ]
  },
  {
   "cell_type": "code",
   "execution_count": 40,
   "metadata": {},
   "outputs": [
    {
     "name": "stdout",
     "output_type": "stream",
     "text": [
      "\n",
      "\n",
      "Training Set Performance measures\n",
      "Training Accuracy 0.905142857143\n",
      "\n",
      " [[3038  128]\n",
      " [ 204  130]]\n",
      "\n",
      " Training AUC 0.922063957997\n",
      "\n",
      "\n",
      "Test Set Performance measures\n",
      "Test Accuracy 0.912666666667\n",
      "\n",
      " [[1308   46]\n",
      " [  85   61]]\n",
      "\n",
      " Test AUC 0.928921915785\n"
     ]
    }
   ],
   "source": [
    "from sklearn.metrics import confusion_matrix, accuracy_score,roc_auc_score\n",
    "\n",
    "# Given that we will be calling these performance measures multiple times, we will create a simple function\n",
    "\n",
    "def generate_perf_measures(clf_mod, score_data, labels, print_prefix):\n",
    "    pred_label = clf_mod.predict(score_data)\n",
    "    pred_prob = clf_mod.predict_proba(score_data)\n",
    "    print(\"\\n\")\n",
    "    print(print_prefix,\"Set Performance measures\")\n",
    "    print(print_prefix,\"Accuracy\",accuracy_score(labels,pred_label))\n",
    "    print(\"\\n\",confusion_matrix(labels,pred_label))\n",
    "    print(\"\\n\",print_prefix,\"AUC\",roc_auc_score(labels,pred_prob[:,1]))\n",
    "\n",
    "generate_perf_measures(log_clf,X_train,y_train,\"Training\")\n",
    "generate_perf_measures(log_clf,X_test,y_test,\"Test\")"
   ]
  },
  {
   "cell_type": "code",
   "execution_count": 41,
   "metadata": {},
   "outputs": [
    {
     "data": {
      "text/plain": [
       "DecisionTreeClassifier(class_weight=None, criterion='gini', max_depth=None,\n",
       "            max_features=None, max_leaf_nodes=None,\n",
       "            min_impurity_split=1e-07, min_samples_leaf=1,\n",
       "            min_samples_split=2, min_weight_fraction_leaf=0.0,\n",
       "            presort=False, random_state=None, splitter='best')"
      ]
     },
     "execution_count": 41,
     "metadata": {},
     "output_type": "execute_result"
    }
   ],
   "source": [
    "# Decision Tree classifier Model\n",
    "\n",
    "from sklearn.tree import DecisionTreeClassifier\n",
    "dt_clf = DecisionTreeClassifier()\n",
    "\n",
    "dt_clf.fit(X_train,y_train)"
   ]
  },
  {
   "cell_type": "code",
   "execution_count": 42,
   "metadata": {},
   "outputs": [
    {
     "name": "stdout",
     "output_type": "stream",
     "text": [
      "\n",
      "\n",
      "Training Set Performance measures\n",
      "Training Accuracy 1.0\n",
      "\n",
      " [[3166    0]\n",
      " [   0  334]]\n",
      "\n",
      " Training AUC 1.0\n",
      "\n",
      "\n",
      "Test Set Performance measures\n",
      "Test Accuracy 0.98\n",
      "\n",
      " [[1339   15]\n",
      " [  15  131]]\n",
      "\n",
      " Test AUC 0.943090993707\n"
     ]
    }
   ],
   "source": [
    "generate_perf_measures(dt_clf,X_train,y_train,\"Training\")\n",
    "generate_perf_measures(dt_clf, X_test, y_test,\"Test\")"
   ]
  },
  {
   "cell_type": "code",
   "execution_count": 43,
   "metadata": {},
   "outputs": [
    {
     "data": {
      "text/plain": [
       "GridSearchCV(cv=5, error_score='raise',\n",
       "       estimator=DecisionTreeClassifier(class_weight=None, criterion='gini', max_depth=None,\n",
       "            max_features=None, max_leaf_nodes=None,\n",
       "            min_impurity_split=1e-07, min_samples_leaf=1,\n",
       "            min_samples_split=2, min_weight_fraction_leaf=0.0,\n",
       "            presort=False, random_state=None, splitter='best'),\n",
       "       fit_params={}, iid=True, n_jobs=1,\n",
       "       param_grid={'max_depth': [2, 4, 6, 8, 10, 12, 14, 16, 18], 'min_samples_split': [5, 25, 45, 65, 85]},\n",
       "       pre_dispatch='2*n_jobs', refit=True, return_train_score=True,\n",
       "       scoring='roc_auc', verbose=0)"
      ]
     },
     "execution_count": 43,
     "metadata": {},
     "output_type": "execute_result"
    },
    {
     "name": "stdout",
     "output_type": "stream",
     "text": [
      "Max AUC achieved 0.994369803939\n",
      "Optimal value of Max Depth Hyperparameter -  4\n",
      "Optimal value of Min samples split Hyperparameter -  45\n"
     ]
    }
   ],
   "source": [
    "# DT Model is overfitting, so try using Gridsearch\n",
    "from sklearn.model_selection import GridSearchCV\n",
    "parameters= {'max_depth' : list(range(2,20,2)), 'min_samples_split' : list(range(5,100,20))}\n",
    "clf = GridSearchCV(dt_clf, parameters, scoring='roc_auc', cv = 5)\n",
    "clf.fit(X_train,y_train)\n",
    "grid_search_results = clf.cv_results_\n",
    "print(\"Max AUC achieved\",clf.best_score_)\n",
    "print(\"Optimal value of Max Depth Hyperparameter - \",clf.best_estimator_.max_depth)\n",
    "print(\"Optimal value of Min samples split Hyperparameter - \", clf.best_estimator_.min_samples_split)"
   ]
  },
  {
   "cell_type": "code",
   "execution_count": 44,
   "metadata": {},
   "outputs": [
    {
     "name": "stdout",
     "output_type": "stream",
     "text": [
      "\n",
      "\n",
      "Training Set Performance measures\n",
      "Training Accuracy 0.983714285714\n",
      "\n",
      " [[3153   13]\n",
      " [  44  290]]\n",
      "\n",
      " Training AUC 0.996798884858\n",
      "\n",
      "\n",
      "Test Set Performance measures\n",
      "Test Accuracy 0.98\n",
      "\n",
      " [[1344   10]\n",
      " [  20  126]]\n",
      "\n",
      " Test AUC 0.989063353635\n"
     ]
    }
   ],
   "source": [
    "generate_perf_measures(clf,X_train,y_train,\"Training\")\n",
    "generate_perf_measures(clf, X_test, y_test,\"Test\")\n",
    "#Accuracy jumped from 91% of Logistic regression to 98% DT\n",
    "# Please note LR models can be enhanced by adding interaction terms,creating dummy of categorical,to model some non-linear relation between predictors"
   ]
  },
  {
   "cell_type": "code",
   "execution_count": 45,
   "metadata": {},
   "outputs": [
    {
     "data": {
      "text/plain": [
       "LinearDiscriminantAnalysis(n_components=None, priors=None, shrinkage=None,\n",
       "              solver='svd', store_covariance=False, tol=0.0001)"
      ]
     },
     "execution_count": 45,
     "metadata": {},
     "output_type": "execute_result"
    }
   ],
   "source": [
    "# Linear Discriminant Analysis model\n",
    "from sklearn.discriminant_analysis import LinearDiscriminantAnalysis\n",
    "ld_clf = LinearDiscriminantAnalysis()\n",
    "\n",
    "ld_clf.fit(X_train,y_train)"
   ]
  },
  {
   "cell_type": "code",
   "execution_count": 46,
   "metadata": {},
   "outputs": [
    {
     "name": "stdout",
     "output_type": "stream",
     "text": [
      "\n",
      "\n",
      "Training Set Performance measures\n",
      "Training Accuracy 0.949142857143\n",
      "\n",
      " [[3120   46]\n",
      " [ 132  202]]\n",
      "\n",
      " Training AUC 0.961039071573\n",
      "\n",
      "\n",
      "Test Set Performance measures\n",
      "Test Accuracy 0.956\n",
      "\n",
      " [[1336   18]\n",
      " [  48   98]]\n",
      "\n",
      " Test AUC 0.966072115093\n"
     ]
    }
   ],
   "source": [
    "generate_perf_measures(ld_clf,X_train,y_train,\"Training\")\n",
    "generate_perf_measures(ld_clf,X_test,y_test,\"Test\")"
   ]
  },
  {
   "cell_type": "code",
   "execution_count": 47,
   "metadata": {},
   "outputs": [
    {
     "data": {
      "text/plain": [
       "RandomForestClassifier(bootstrap=True, class_weight=None, criterion='gini',\n",
       "            max_depth=None, max_features='auto', max_leaf_nodes=None,\n",
       "            min_impurity_split=1e-07, min_samples_leaf=1,\n",
       "            min_samples_split=2, min_weight_fraction_leaf=0.0,\n",
       "            n_estimators=50, n_jobs=1, oob_score=False, random_state=None,\n",
       "            verbose=0, warm_start=False)"
      ]
     },
     "execution_count": 47,
     "metadata": {},
     "output_type": "execute_result"
    }
   ],
   "source": [
    "# Try Bagging ensemble method Random Forest,a ensemble of CART Trees\n",
    "from sklearn.ensemble import RandomForestClassifier\n",
    "rf_clf = RandomForestClassifier(n_estimators=50)\n",
    "rf_clf.fit(X_train,y_train)"
   ]
  },
  {
   "cell_type": "code",
   "execution_count": 48,
   "metadata": {},
   "outputs": [
    {
     "name": "stdout",
     "output_type": "stream",
     "text": [
      "\n",
      "\n",
      "Training Set Performance measures\n",
      "Training Accuracy 0.949142857143\n",
      "\n",
      " [[3120   46]\n",
      " [ 132  202]]\n",
      "\n",
      " Training AUC 0.961039071573\n",
      "\n",
      "\n",
      "Test Set Performance measures\n",
      "Test Accuracy 0.956\n",
      "\n",
      " [[1336   18]\n",
      " [  48   98]]\n",
      "\n",
      " Test AUC 0.966072115093\n"
     ]
    }
   ],
   "source": [
    "generate_perf_measures(ld_clf,X_train,y_train,\"Training\")\n",
    "generate_perf_measures(ld_clf,X_test,y_test,\"Test\")"
   ]
  },
  {
   "cell_type": "code",
   "execution_count": 49,
   "metadata": {},
   "outputs": [
    {
     "data": {
      "text/plain": [
       "GridSearchCV(cv=5, error_score='raise',\n",
       "       estimator=RandomForestClassifier(bootstrap=True, class_weight=None, criterion='gini',\n",
       "            max_depth=None, max_features='auto', max_leaf_nodes=None,\n",
       "            min_impurity_split=1e-07, min_samples_leaf=1,\n",
       "            min_samples_split=2, min_weight_fraction_leaf=0.0,\n",
       "            n_estimators=50, n_jobs=1, oob_score=False, random_state=None,\n",
       "            verbose=0, warm_start=False),\n",
       "       fit_params={}, iid=True, n_jobs=1,\n",
       "       param_grid={'n_estimators': [25], 'min_samples_split': [5, 25, 45, 65, 85]},\n",
       "       pre_dispatch='2*n_jobs', refit=True, return_train_score=True,\n",
       "       scoring='roc_auc', verbose=0)"
      ]
     },
     "execution_count": 49,
     "metadata": {},
     "output_type": "execute_result"
    },
    {
     "name": "stdout",
     "output_type": "stream",
     "text": [
      "Max AUC achieved 0.995838865449\n",
      "Optimal value of Max Depth Hyperparameter -  25\n",
      "Optimal value of Min samples split Hyperparameter -  45\n"
     ]
    }
   ],
   "source": [
    "# Accuracy not improved by bagging ensemble.Lets try Hyper parameter tuning\n",
    "from sklearn.model_selection import GridSearchCV\n",
    "parameters= {'n_estimators' : list(range(25,50,75)), 'min_samples_split' : list(range(5,100,20))}\n",
    "clf = GridSearchCV(rf_clf, parameters, scoring='roc_auc', cv = 5)\n",
    "clf.fit(X_train,y_train)\n",
    "grid_search_results = clf.cv_results_\n",
    "print(\"Max AUC achieved\",clf.best_score_)\n",
    "print(\"Optimal value of Max Depth Hyperparameter - \",clf.best_estimator_.n_estimators)\n",
    "print(\"Optimal value of Min samples split Hyperparameter - \", clf.best_estimator_.min_samples_split)"
   ]
  },
  {
   "cell_type": "code",
   "execution_count": 50,
   "metadata": {},
   "outputs": [
    {
     "name": "stdout",
     "output_type": "stream",
     "text": [
      "\n",
      "\n",
      "Training Set Performance measures\n",
      "Training Accuracy 0.986\n",
      "\n",
      " [[3161    5]\n",
      " [  44  290]]\n",
      "\n",
      " Training AUC 0.998511505101\n",
      "\n",
      "\n",
      "Test Set Performance measures\n",
      "Test Accuracy 0.98\n",
      "\n",
      " [[1348    6]\n",
      " [  24  122]]\n",
      "\n",
      " Test AUC 0.99473654924\n"
     ]
    }
   ],
   "source": [
    "generate_perf_measures(clf,X_train,y_train,\"Training\")\n",
    "generate_perf_measures(clf, X_test, y_test,\"Test\")"
   ]
  },
  {
   "cell_type": "code",
   "execution_count": 51,
   "metadata": {},
   "outputs": [
    {
     "data": {
      "text/plain": [
       "VotingClassifier(estimators=[('lr', LogisticRegression(C=1.0, class_weight=None, dual=False, fit_intercept=True,\n",
       "          intercept_scaling=1, max_iter=100, multi_class='ovr', n_jobs=1,\n",
       "          penalty='l2', random_state=None, solver='liblinear', tol=0.0001,\n",
       "          verbose=0, warm_start=False)), ('dt', Decisio...None, priors=None, shrinkage=None,\n",
       "              solver='svd', store_covariance=False, tol=0.0001))],\n",
       "         n_jobs=1, voting='soft', weights=None)"
      ]
     },
     "execution_count": 51,
     "metadata": {},
     "output_type": "execute_result"
    }
   ],
   "source": [
    "# Ensemble enhanced the accuracy further. Lets try voting ensemble also by combining the 3 classifiers - LR, DT & LDA\n",
    "from sklearn.ensemble import VotingClassifier\n",
    "# Fine tune the DT model as per GridSearch result\n",
    "dt_clf = DecisionTreeClassifier(max_depth = 4, min_samples_split = 45)\n",
    "voting_clf = VotingClassifier(estimators=[\n",
    "            ('lr', log_clf), ('dt', dt_clf), ('rf', rf_clf), ('ld', ld_clf)], voting='soft')\n",
    "voting_clf.fit(X_train,y_train)"
   ]
  },
  {
   "cell_type": "code",
   "execution_count": 52,
   "metadata": {},
   "outputs": [
    {
     "name": "stdout",
     "output_type": "stream",
     "text": [
      "\n",
      "\n",
      "Training Set Performance measures\n",
      "Training Accuracy 0.984857142857\n",
      "\n",
      " [[3166    0]\n",
      " [  53  281]]\n",
      "\n",
      " Training AUC 0.998363033882\n",
      "\n",
      "\n",
      "Test Set Performance measures\n",
      "Test Accuracy 0.984857142857\n",
      "\n",
      " [[3166    0]\n",
      " [  53  281]]\n",
      "\n",
      " Test AUC 0.998363033882\n"
     ]
    }
   ],
   "source": [
    "# Compute performance measures\n",
    "generate_perf_measures(voting_clf,X_train,y_train,\"Training\")\n",
    "generate_perf_measures(voting_clf,X_train,y_train,\"Test\")"
   ]
  },
  {
   "cell_type": "code",
   "execution_count": 53,
   "metadata": {},
   "outputs": [
    {
     "data": {
      "text/html": [
       "<div>\n",
       "<style>\n",
       "    .dataframe thead tr:only-child th {\n",
       "        text-align: right;\n",
       "    }\n",
       "\n",
       "    .dataframe thead th {\n",
       "        text-align: left;\n",
       "    }\n",
       "\n",
       "    .dataframe tbody tr th {\n",
       "        vertical-align: top;\n",
       "    }\n",
       "</style>\n",
       "<table border=\"1\" class=\"dataframe\">\n",
       "  <thead>\n",
       "    <tr style=\"text-align: right;\">\n",
       "      <th></th>\n",
       "      <th>Algo</th>\n",
       "      <th>Test AUC</th>\n",
       "      <th>Test Accuracy</th>\n",
       "    </tr>\n",
       "  </thead>\n",
       "  <tbody>\n",
       "    <tr>\n",
       "      <th>0</th>\n",
       "      <td>LR</td>\n",
       "      <td>92.89</td>\n",
       "      <td>91.26</td>\n",
       "    </tr>\n",
       "    <tr>\n",
       "      <th>1</th>\n",
       "      <td>DT</td>\n",
       "      <td>98.90</td>\n",
       "      <td>98.00</td>\n",
       "    </tr>\n",
       "    <tr>\n",
       "      <th>2</th>\n",
       "      <td>RF</td>\n",
       "      <td>99.45</td>\n",
       "      <td>98.40</td>\n",
       "    </tr>\n",
       "    <tr>\n",
       "      <th>3</th>\n",
       "      <td>Voting</td>\n",
       "      <td>99.82</td>\n",
       "      <td>98.48</td>\n",
       "    </tr>\n",
       "  </tbody>\n",
       "</table>\n",
       "</div>"
      ],
      "text/plain": [
       "     Algo  Test AUC  Test Accuracy\n",
       "0      LR     92.89          91.26\n",
       "1      DT     98.90          98.00\n",
       "2      RF     99.45          98.40\n",
       "3  Voting     99.82          98.48"
      ]
     },
     "execution_count": 53,
     "metadata": {},
     "output_type": "execute_result"
    }
   ],
   "source": [
    "# We compare the results we have got thru the different techniques:\n",
    "\n",
    "result_comparison = pd.DataFrame({\"Algo\": [\"LR\",\"DT\",\"RF\",\"Voting\"], \n",
    "                                  \"Test AUC\": [92.89,98.9,99.45,99.82],\n",
    "                                 \"Test Accuracy\": [91.26,98,98.4,98.48]})\n",
    "result_comparison"
   ]
  },
  {
   "cell_type": "markdown",
   "metadata": {},
   "source": [
    "## Conclusion"
   ]
  },
  {
   "cell_type": "markdown",
   "metadata": {},
   "source": [
    "### As we have seen, Ensemble techniques performed better than single classifiers. This is due to:\n",
    "Single classifiers tend to have \"High Variance\". Combining multiple classifiers, the variance comes down resulting in better stable models.\n",
    "Voting is one of the simplest ways of combining the predictions from multiple machine learning algorithms.Voting classifier does even better than Random Forest classifier. In RF,ensemble of the same type of CART. However, when we created a Voting clasisfier, we combine different types of models -linear models and non linear models"
   ]
  }
 ],
 "metadata": {
  "kernelspec": {
   "display_name": "Python 3",
   "language": "python",
   "name": "python3"
  },
  "language_info": {
   "codemirror_mode": {
    "name": "ipython",
    "version": 3
   },
   "file_extension": ".py",
   "mimetype": "text/x-python",
   "name": "python",
   "nbconvert_exporter": "python",
   "pygments_lexer": "ipython3",
   "version": "3.6.1"
  }
 },
 "nbformat": 4,
 "nbformat_minor": 2
}
